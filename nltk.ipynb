{
  "cells": [
    {
      "metadata": {
        "trusted": true
      },
      "cell_type": "code",
      "source": "from nltk.chat.util import Chat, reflections",
      "execution_count": 8,
      "outputs": []
    },
    {
      "metadata": {
        "trusted": true
      },
      "cell_type": "code",
      "source": "pairs = [\n    ['my name is (.*)', ['hi %1']],\n    ['(hi|hello|hey|holla|hola)', ['hey there', 'hi there', 'haayyy']],\n    ['(.*) in (.*) is fun', ['%1 in %2 is indeed fun']],\n    ['(.*)(location|city) ?', 'Tokyo, Japan'],\n    ['(.*) created you ?', ['randerson112358 did using NLTK']],\n    ['how is the weather in (.*)', ['the weather in %1 is amazing like always']],\n    ['(.*)help(.*)', ['I can help you']],\n    ['(.*) your name ?', ['my name is J.A.R.V.I.S']]\n    \n]",
      "execution_count": 9,
      "outputs": []
    },
    {
      "metadata": {
        "trusted": true
      },
      "cell_type": "code",
      "source": "reflections",
      "execution_count": 10,
      "outputs": [
        {
          "output_type": "execute_result",
          "execution_count": 10,
          "data": {
            "text/plain": "{'i am': 'you are',\n 'i was': 'you were',\n 'i': 'you',\n \"i'm\": 'you are',\n \"i'd\": 'you would',\n \"i've\": 'you have',\n \"i'll\": 'you will',\n 'my': 'your',\n 'you are': 'I am',\n 'you were': 'I was',\n \"you've\": 'I have',\n \"you'll\": 'I will',\n 'your': 'my',\n 'yours': 'mine',\n 'you': 'me',\n 'me': 'you'}"
          },
          "metadata": {}
        }
      ]
    },
    {
      "metadata": {
        "trusted": true
      },
      "cell_type": "code",
      "source": "my_dummy_reflections = {\n    'go' : 'gone',\n    'hello' : 'hey there'\n}",
      "execution_count": 11,
      "outputs": []
    },
    {
      "metadata": {
        "trusted": true
      },
      "cell_type": "code",
      "source": "chat = Chat(pairs, my_dummy_reflections)\n#chat._substitute('go hello')\nchat.converse()",
      "execution_count": 12,
      "outputs": [
        {
          "output_type": "stream",
          "name": "stdout",
          "text": ">hi\nhey there\n>what's your name\nmy name is J.A.R.V.I.S\n>what?\nNone\n>What do you do?\nNone\n>How do you do?\nNone\n>What is your name?\nmy name is J.A.R.V.I.S\n>What's your age?\nNone\n>You are fool\nNone\n>\n>\n>\n>\n>\n>exit()\nNone\n><script></script>\nNone\n>q\nNone\n>qQ\nNone\n>quit\nNone\n"
        }
      ]
    },
    {
      "metadata": {
        "trusted": true
      },
      "cell_type": "code",
      "source": "",
      "execution_count": null,
      "outputs": []
    }
  ],
  "metadata": {
    "kernelspec": {
      "name": "python36",
      "display_name": "Python 3.6",
      "language": "python"
    },
    "language_info": {
      "mimetype": "text/x-python",
      "nbconvert_exporter": "python",
      "name": "python",
      "pygments_lexer": "ipython3",
      "version": "3.6.6",
      "file_extension": ".py",
      "codemirror_mode": {
        "version": 3,
        "name": "ipython"
      }
    }
  },
  "nbformat": 4,
  "nbformat_minor": 2
}