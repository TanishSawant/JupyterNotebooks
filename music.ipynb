{
  "cells": [
    {
      "metadata": {
        "trusted": true
      },
      "cell_type": "code",
      "source": "!pip install librosa",
      "execution_count": 1,
      "outputs": [
        {
          "output_type": "stream",
          "text": "Collecting librosa\n\u001b[?25l  Downloading https://files.pythonhosted.org/packages/77/b5/1817862d64a7c231afd15419d8418ae1f000742cac275e85c74b219cbccb/librosa-0.7.2.tar.gz (1.6MB)\n\u001b[K     |████████████████████████████████| 1.6MB 5.0MB/s eta 0:00:01\n\u001b[?25hCollecting audioread>=2.0.0\n  Downloading https://files.pythonhosted.org/packages/2e/0b/940ea7861e0e9049f09dcfd72a90c9ae55f697c17c299a323f0148f913d2/audioread-2.1.8.tar.gz\nRequirement already satisfied: numpy>=1.15.0 in /home/nbuser/anaconda3_501/lib/python3.6/site-packages (from librosa) (1.16.2)\nRequirement already satisfied: scipy>=1.0.0 in /home/nbuser/anaconda3_501/lib/python3.6/site-packages (from librosa) (1.1.0)\nRequirement already satisfied: scikit-learn!=0.19.0,>=0.14.0 in /home/nbuser/anaconda3_501/lib/python3.6/site-packages (from librosa) (0.20.3)\nRequirement already satisfied: joblib>=0.12 in /home/nbuser/anaconda3_501/lib/python3.6/site-packages (from librosa) (0.14.0)\nRequirement already satisfied: decorator>=3.0.0 in /home/nbuser/anaconda3_501/lib/python3.6/site-packages (from librosa) (4.3.0)\nRequirement already satisfied: six>=1.3 in /home/nbuser/anaconda3_501/lib/python3.6/site-packages (from librosa) (1.11.0)\nCollecting resampy>=0.2.2\n\u001b[?25l  Downloading https://files.pythonhosted.org/packages/79/75/e22272b9c2185fc8f3af6ce37229708b45e8b855fd4bc38b4d6b040fff65/resampy-0.2.2.tar.gz (323kB)\n\u001b[K     |████████████████████████████████| 327kB 22.9MB/s eta 0:00:01\n\u001b[?25hCollecting numba>=0.43.0\n\u001b[?25l  Downloading https://files.pythonhosted.org/packages/ba/49/61522f34b1333aa4e9aa02005dc0774d25bd234400dff718b16615d6a744/numba-0.48.0-cp36-cp36m-manylinux1_x86_64.whl (2.5MB)\n\u001b[K     |████████████████████████████████| 2.5MB 23.6MB/s eta 0:00:01��█████████████████████████▌| 2.5MB 23.6MB/s eta 0:00:01\n\u001b[?25hCollecting soundfile>=0.9.0\n  Downloading https://files.pythonhosted.org/packages/eb/f2/3cbbbf3b96fb9fa91582c438b574cff3f45b29c772f94c400e2c99ef5db9/SoundFile-0.10.3.post1-py2.py3-none-any.whl\nCollecting llvmlite<0.32.0,>=0.31.0dev0\n\u001b[?25l  Downloading https://files.pythonhosted.org/packages/ad/bb/60d4033d56c9da36490af19caa6c794b72b8aef6f792fdfa8cb95d11e419/llvmlite-0.31.0-cp36-cp36m-manylinux1_x86_64.whl (20.2MB)\n\u001b[K     |████████████████████████████████| 20.2MB 30kB/s  eta 0:00:01\n\u001b[?25hRequirement already satisfied: setuptools in /home/nbuser/anaconda3_501/lib/python3.6/site-packages (from numba>=0.43.0->librosa) (41.6.0)\nRequirement already satisfied: cffi>=1.0 in /home/nbuser/anaconda3_501/lib/python3.6/site-packages (from soundfile>=0.9.0->librosa) (1.11.5)\nRequirement already satisfied: pycparser in /home/nbuser/anaconda3_501/lib/python3.6/site-packages (from cffi>=1.0->soundfile>=0.9.0->librosa) (2.19)\nBuilding wheels for collected packages: librosa, audioread, resampy\n  Building wheel for librosa (setup.py) ... \u001b[?25ldone\n\u001b[?25h  Created wheel for librosa: filename=librosa-0.7.2-cp36-none-any.whl size=1613955 sha256=cb3812c9c38f6966abfe08b80141020efd7f41cabfeaff04989cd39448c27dcb\n  Stored in directory: /home/nbuser/.cache/pip/wheels/4c/6e/d7/bb93911540d2d1e44d690a1561871e5b6af82b69e80938abef\n  Building wheel for audioread (setup.py) ... \u001b[?25ldone\n\u001b[?25h  Created wheel for audioread: filename=audioread-2.1.8-cp36-none-any.whl size=26091 sha256=8a9cf9f6d411f58dc927815a28a008a23165a901122943f79150e775b13fbbd0\n  Stored in directory: /home/nbuser/.cache/pip/wheels/b9/64/09/0b6417df9d8ba8bc61a7d2553c5cebd714ec169644c88fc012\n  Building wheel for resampy (setup.py) ... \u001b[?25ldone\n\u001b[?25h  Created wheel for resampy: filename=resampy-0.2.2-cp36-none-any.whl size=321052 sha256=d89eaac719c92908ebd473e7625f56e9d7b168caf758f7ee1b81ad71a2bee5c0\n  Stored in directory: /home/nbuser/.cache/pip/wheels/fa/c1/56/e0e12c6f7f3d2cdea9712b35136a2d40a7817c6210ec096485\nSuccessfully built librosa audioread resampy\nInstalling collected packages: audioread, llvmlite, numba, resampy, soundfile, librosa\n  Found existing installation: llvmlite 0.25.0\n\u001b[31mERROR: Cannot uninstall 'llvmlite'. It is a distutils installed project and thus we cannot accurately determine which files belong to it which would lead to only a partial uninstall.\u001b[0m\n\u001b[33mWARNING: You are using pip version 19.3.1; however, version 20.0.2 is available.\nYou should consider upgrading via the 'pip install --upgrade pip' command.\u001b[0m\n",
          "name": "stdout"
        }
      ]
    },
    {
      "metadata": {
        "trusted": true
      },
      "cell_type": "code",
      "source": "import Librosa\naudio_data = '/../../gruesome.wav'\nx , sr = librosa.load(audio_data)\nprint(type(x), type(sr))#<class 'numpy.ndarray'> <class 'int'>print(x.shape, sr)#(94316,) 22050",
      "execution_count": 4,
      "outputs": [
        {
          "output_type": "error",
          "ename": "ModuleNotFoundError",
          "evalue": "No module named 'Librosa'",
          "traceback": [
            "\u001b[0;31m---------------------------------------------------------------------------\u001b[0m",
            "\u001b[0;31mModuleNotFoundError\u001b[0m                       Traceback (most recent call last)",
            "\u001b[0;32m<ipython-input-4-4b164f960832>\u001b[0m in \u001b[0;36m<module>\u001b[0;34m\u001b[0m\n\u001b[0;32m----> 1\u001b[0;31m \u001b[0;32mimport\u001b[0m \u001b[0mLibrosa\u001b[0m\u001b[0;34m\u001b[0m\u001b[0m\n\u001b[0m\u001b[1;32m      2\u001b[0m \u001b[0maudio_data\u001b[0m \u001b[0;34m=\u001b[0m \u001b[0;34m'/../../gruesome.wav'\u001b[0m\u001b[0;34m\u001b[0m\u001b[0m\n\u001b[1;32m      3\u001b[0m \u001b[0mx\u001b[0m \u001b[0;34m,\u001b[0m \u001b[0msr\u001b[0m \u001b[0;34m=\u001b[0m \u001b[0mlibrosa\u001b[0m\u001b[0;34m.\u001b[0m\u001b[0mload\u001b[0m\u001b[0;34m(\u001b[0m\u001b[0maudio_data\u001b[0m\u001b[0;34m)\u001b[0m\u001b[0;34m\u001b[0m\u001b[0m\n\u001b[1;32m      4\u001b[0m \u001b[0mprint\u001b[0m\u001b[0;34m(\u001b[0m\u001b[0mtype\u001b[0m\u001b[0;34m(\u001b[0m\u001b[0mx\u001b[0m\u001b[0;34m)\u001b[0m\u001b[0;34m,\u001b[0m \u001b[0mtype\u001b[0m\u001b[0;34m(\u001b[0m\u001b[0msr\u001b[0m\u001b[0;34m)\u001b[0m\u001b[0;34m)\u001b[0m\u001b[0;31m#<class 'numpy.ndarray'> <class 'int'>print(x.shape, sr)#(94316,) 22050\u001b[0m\u001b[0;34m\u001b[0m\u001b[0m\n",
            "\u001b[0;31mModuleNotFoundError\u001b[0m: No module named 'Librosa'"
          ]
        }
      ]
    },
    {
      "metadata": {
        "trusted": true
      },
      "cell_type": "code",
      "source": "!pip3 install librosa\n",
      "execution_count": 6,
      "outputs": [
        {
          "output_type": "stream",
          "text": "Processing /home/nbuser/.cache/pip/wheels/4c/6e/d7/bb93911540d2d1e44d690a1561871e5b6af82b69e80938abef/librosa-0.7.2-cp36-none-any.whl\nRequirement already satisfied: scikit-learn!=0.19.0,>=0.14.0 in /home/nbuser/anaconda3_501/lib/python3.6/site-packages (from librosa) (0.20.3)\nRequirement already satisfied: joblib>=0.12 in /home/nbuser/anaconda3_501/lib/python3.6/site-packages (from librosa) (0.14.0)\nRequirement already satisfied: audioread>=2.0.0 in /home/nbuser/anaconda3_501/lib/python3.6/site-packages (from librosa) (2.1.8)\nRequirement already satisfied: numpy>=1.15.0 in /home/nbuser/anaconda3_501/lib/python3.6/site-packages (from librosa) (1.16.2)\nRequirement already satisfied: decorator>=3.0.0 in /home/nbuser/anaconda3_501/lib/python3.6/site-packages (from librosa) (4.3.0)\nRequirement already satisfied: six>=1.3 in /home/nbuser/anaconda3_501/lib/python3.6/site-packages (from librosa) (1.11.0)\nCollecting soundfile>=0.9.0\n  Using cached https://files.pythonhosted.org/packages/eb/f2/3cbbbf3b96fb9fa91582c438b574cff3f45b29c772f94c400e2c99ef5db9/SoundFile-0.10.3.post1-py2.py3-none-any.whl\nRequirement already satisfied: scipy>=1.0.0 in /home/nbuser/anaconda3_501/lib/python3.6/site-packages (from librosa) (1.1.0)\nCollecting numba>=0.43.0\n  Using cached https://files.pythonhosted.org/packages/ba/49/61522f34b1333aa4e9aa02005dc0774d25bd234400dff718b16615d6a744/numba-0.48.0-cp36-cp36m-manylinux1_x86_64.whl\nProcessing /home/nbuser/.cache/pip/wheels/fa/c1/56/e0e12c6f7f3d2cdea9712b35136a2d40a7817c6210ec096485/resampy-0.2.2-cp36-none-any.whl\nRequirement already satisfied: cffi>=1.0 in /home/nbuser/anaconda3_501/lib/python3.6/site-packages (from soundfile>=0.9.0->librosa) (1.11.5)\nRequirement already satisfied: setuptools in /home/nbuser/anaconda3_501/lib/python3.6/site-packages (from numba>=0.43.0->librosa) (41.6.0)\nCollecting llvmlite<0.32.0,>=0.31.0dev0\n  Using cached https://files.pythonhosted.org/packages/ad/bb/60d4033d56c9da36490af19caa6c794b72b8aef6f792fdfa8cb95d11e419/llvmlite-0.31.0-cp36-cp36m-manylinux1_x86_64.whl\nRequirement already satisfied: pycparser in /home/nbuser/anaconda3_501/lib/python3.6/site-packages (from cffi>=1.0->soundfile>=0.9.0->librosa) (2.19)\nInstalling collected packages: soundfile, llvmlite, numba, resampy, librosa\n  Found existing installation: llvmlite 0.25.0\n\u001b[31mERROR: Cannot uninstall 'llvmlite'. It is a distutils installed project and thus we cannot accurately determine which files belong to it which would lead to only a partial uninstall.\u001b[0m\n\u001b[33mWARNING: You are using pip version 19.3.1; however, version 20.0.2 is available.\nYou should consider upgrading via the 'pip install --upgrade pip' command.\u001b[0m\n",
          "name": "stdout"
        }
      ]
    },
    {
      "metadata": {
        "trusted": true
      },
      "cell_type": "code",
      "source": "import librosa",
      "execution_count": 7,
      "outputs": [
        {
          "output_type": "error",
          "ename": "ModuleNotFoundError",
          "evalue": "No module named 'librosa'",
          "traceback": [
            "\u001b[0;31m---------------------------------------------------------------------------\u001b[0m",
            "\u001b[0;31mModuleNotFoundError\u001b[0m                       Traceback (most recent call last)",
            "\u001b[0;32m<ipython-input-7-989066361697>\u001b[0m in \u001b[0;36m<module>\u001b[0;34m\u001b[0m\n\u001b[0;32m----> 1\u001b[0;31m \u001b[0;32mimport\u001b[0m \u001b[0mlibrosa\u001b[0m\u001b[0;34m\u001b[0m\u001b[0m\n\u001b[0m",
            "\u001b[0;31mModuleNotFoundError\u001b[0m: No module named 'librosa'"
          ]
        }
      ]
    },
    {
      "metadata": {
        "trusted": true
      },
      "cell_type": "code",
      "source": "!pip install git+https://github.com/librosa/librosa",
      "execution_count": 8,
      "outputs": [
        {
          "output_type": "stream",
          "text": "Collecting git+https://github.com/librosa/librosa\n  Cloning https://github.com/librosa/librosa to /tmp/pip-req-build-m8hh5pd5\n  Running command git clone -q https://github.com/librosa/librosa /tmp/pip-req-build-m8hh5pd5\n^C\n\u001b[31mERROR: Operation cancelled by user\u001b[0m\n",
          "name": "stdout"
        }
      ]
    },
    {
      "metadata": {
        "trusted": true
      },
      "cell_type": "code",
      "source": "",
      "execution_count": null,
      "outputs": []
    }
  ],
  "metadata": {
    "kernelspec": {
      "name": "python36",
      "display_name": "Python 3.6",
      "language": "python"
    },
    "language_info": {
      "mimetype": "text/x-python",
      "nbconvert_exporter": "python",
      "name": "python",
      "pygments_lexer": "ipython3",
      "version": "3.6.6",
      "file_extension": ".py",
      "codemirror_mode": {
        "version": 3,
        "name": "ipython"
      }
    }
  },
  "nbformat": 4,
  "nbformat_minor": 2
}