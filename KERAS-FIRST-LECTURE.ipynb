{
  "cells": [
    {
      "metadata": {
        "trusted": true
      },
      "cell_type": "code",
      "source": "from keras.datasets import mnist\nimport keras.utils.np_utils as ku\nimport keras.models as models\nimport keras.layers as layers\nfrom keras import regularizers\nfrom keras.optimizers import rmsprop\nimport numpy as np\nimport numpy.random as nr\nfrom tensorflow import set_random_seed\nimport matplotlib.pyplot as plt\n%matplotlib inline",
      "execution_count": 1,
      "outputs": [
        {
          "output_type": "stream",
          "text": "Using TensorFlow backend.\n/home/nbuser/anaconda3_501/lib/python3.6/site-packages/matplotlib/font_manager.py:229: UserWarning: Matplotlib is building the font cache using fc-list. This may take a moment.\n  'Matplotlib is building the font cache using fc-list. '\n",
          "name": "stderr"
        }
      ]
    },
    {
      "metadata": {
        "trusted": true
      },
      "cell_type": "code",
      "source": "(train_images, train_labels), (test_images, test_labels) = mnist.load_data()\nprint(train_images[4].shape)",
      "execution_count": 2,
      "outputs": [
        {
          "output_type": "stream",
          "text": "Downloading data from https://s3.amazonaws.com/img-datasets/mnist.npz\n11493376/11490434 [==============================] - 2s 0us/step\n(28, 28)\n",
          "name": "stdout"
        }
      ]
    },
    {
      "metadata": {
        "trusted": true
      },
      "cell_type": "code",
      "source": "for i in range(5, 20, 4):\n    plt.imshow(train_images[i], cmap=plt.cm.binary)\n    plt.show()\n    print('Label = ' + str(train_labels[i]))",
      "execution_count": 3,
      "outputs": [
        {
          "output_type": "display_data",
          "data": {
            "image/png": "[encoded data removed]",
            "text/plain": "<Figure size 432x288 with 1 Axes>"
          },
          "metadata": {
            "needs_background": "light"
          }
        },
        {
          "output_type": "stream",
          "text": "Label = 2\n",
          "name": "stdout"
        },
        {
          "output_type": "display_data",
          "data": {
            "image/png": "[encoded data removed]",
            "text/plain": "<Figure size 432x288 with 1 Axes>"
          },
          "metadata": {
            "needs_background": "light"
          }
        },
        {
          "output_type": "stream",
          "text": "Label = 4\n",
          "name": "stdout"
        },
        {
          "output_type": "display_data",
          "data": {
            "image/png": "[encoded data removed]",
            "text/plain": "<Figure size 432x288 with 1 Axes>"
          },
          "metadata": {
            "needs_background": "light"
          }
        },
        {
          "output_type": "stream",
          "text": "Label = 6\n",
          "name": "stdout"
        },
        {
          "output_type": "display_data",
          "data": {
            "image/png": "[encoded data removed]",
            "text/plain": "<Figure size 432x288 with 1 Axes>"
          },
          "metadata": {
            "needs_background": "light"
          }
        },
        {
          "output_type": "stream",
          "text": "Label = 8\n",
          "name": "stdout"
        }
      ]
    },
    {
      "metadata": {
        "trusted": true
      },
      "cell_type": "code",
      "source": "print(train_images.shape, train_labels.shape)\ntrain_images = train_images.reshape((60000, 28*28)).astype('float32')/255\nprint(train_images.shape)\nprint(train_images.dtype)",
      "execution_count": 4,
      "outputs": [
        {
          "output_type": "stream",
          "text": "(60000, 28, 28) (60000,)\n(60000, 784)\nfloat32\n",
          "name": "stdout"
        }
      ]
    },
    {
      "metadata": {
        "trusted": true
      },
      "cell_type": "code",
      "source": "print(test_images.shape, test_labels.shape)\ntest_images = test_images.reshape((10000, 28*28)).astype('float32')/255\nprint(test_images.shape)",
      "execution_count": 6,
      "outputs": [
        {
          "output_type": "stream",
          "text": "(10000, 784) (10000,)\n(10000, 784)\n",
          "name": "stdout"
        }
      ]
    },
    {
      "metadata": {
        "trusted": true
      },
      "cell_type": "code",
      "source": "print(train_labels[5:,])",
      "execution_count": 7,
      "outputs": [
        {
          "output_type": "stream",
          "text": "[2 1 3 ... 5 6 8]\n",
          "name": "stdout"
        }
      ]
    },
    {
      "metadata": {
        "trusted": true
      },
      "cell_type": "code",
      "source": "train_labels = ku.to_categorical(train_labels)\nprint(train_labels[5:,])",
      "execution_count": 8,
      "outputs": [
        {
          "output_type": "stream",
          "text": "[[0. 0. 1. ... 0. 0. 0.]\n [0. 1. 0. ... 0. 0. 0.]\n [0. 0. 0. ... 0. 0. 0.]\n ...\n [0. 0. 0. ... 0. 0. 0.]\n [0. 0. 0. ... 0. 0. 0.]\n [0. 0. 0. ... 0. 1. 0.]]\n",
          "name": "stdout"
        }
      ]
    },
    {
      "metadata": {
        "trusted": true
      },
      "cell_type": "code",
      "source": "test_labels = ku.to_categorical(test_labels)",
      "execution_count": 9,
      "outputs": []
    },
    {
      "metadata": {
        "trusted": true
      },
      "cell_type": "code",
      "source": "nn = models.Sequential()\nnn.add(layers.Dense(512, activation = 'relu', input_shape = (28*28, )))\nnn.add(layers.Dense(10, activation = 'softmax'))",
      "execution_count": 10,
      "outputs": []
    },
    {
      "metadata": {
        "trusted": true
      },
      "cell_type": "code",
      "source": "nn.compile(optimizer = 'rmsprop', loss = 'categorical_crossentropy', metrics = ['accuracy'])",
      "execution_count": 11,
      "outputs": []
    },
    {
      "metadata": {
        "trusted": true
      },
      "cell_type": "code",
      "source": "nr.seed(9898)\nset_random_seed(9777)\nnn.fit(train_images, train_labels, epochs = 5, batch_size = 128)",
      "execution_count": 12,
      "outputs": [
        {
          "output_type": "stream",
          "text": "Epoch 1/5\n60000/60000 [==============================] - 18s 306us/step - loss: 0.2553 - acc: 0.9262\nEpoch 2/5\n60000/60000 [==============================] - 16s 268us/step - loss: 0.1042 - acc: 0.9686\nEpoch 3/5\n60000/60000 [==============================] - 18s 297us/step - loss: 0.0698 - acc: 0.97911s - l\nEpoch 4/5\n60000/60000 [==============================] - 17s 286us/step - loss: 0.0510 - acc: 0.98440s - loss: 0.0\nEpoch 5/5\n60000/60000 [==============================] - 17s 283us/step - loss: 0.0381 - acc: 0.9884\n",
          "name": "stdout"
        },
        {
          "output_type": "execute_result",
          "execution_count": 12,
          "data": {
            "text/plain": "<keras.callbacks.History at 0x7fcf498cd978>"
          },
          "metadata": {}
        }
      ]
    },
    {
      "metadata": {
        "trusted": true
      },
      "cell_type": "code",
      "source": "",
      "execution_count": null,
      "outputs": []
    }
  ],
  "metadata": {
    "kernelspec": {
      "name": "python36",
      "display_name": "Python 3.6",
      "language": "python"
    },
    "language_info": {
      "mimetype": "text/x-python",
      "nbconvert_exporter": "python",
      "name": "python",
      "pygments_lexer": "ipython3",
      "version": "3.6.6",
      "file_extension": ".py",
      "codemirror_mode": {
        "version": 3,
        "name": "ipython"
      }
    }
  },
  "nbformat": 4,
  "nbformat_minor": 2
}