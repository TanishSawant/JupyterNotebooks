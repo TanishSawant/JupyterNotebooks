{
  "cells": [
    {
      "metadata": {
        "trusted": true
      },
      "cell_type": "code",
      "source": "# Description: This is a virtual assistant program that gets the date, the current time, responds back with a random greeting, and \n\n#             returns information on a person from wikipedia e.g. 'who is LeBron James'\n\n\n\n# DEF: A virtual assistant is an application that can understand voice commands and complete tasks for a user.\n\n\n\n# Resources:\n\n# (1) https://towardsdatascience.com/build-your-first-voice-assistant-85a5a49f6cc1\n\n# (2) https://pythonspot.com/personal-assistant-jarvis-in-python/\n\n# (3) https://realpython.com/python-speech-recognition/\n\n# (4) https://pypi.org/project/SpeechRecognition/1.2.3/\n\n# (5) https://stackabuse.com/getting-started-with-pythons-wikipedia-api/\n\n\n\n# Be sure to first install the following packages:\n\n# pip install pyaudio\n\n# pip install SpeechRecognition\n\n# pip install gTTS\n\n# pip install wikipedia\n\n\n\n# Import the libraries\n\nimport speech_recognition as sr\n\nimport os\n\nfrom gtts import gTTS\n\nimport datetime\n\nimport warnings\n\nimport calendar\n\nimport random\n\nimport wikipedia\n\n\n\n# Ignore any warning messages\n\nwarnings.filterwarnings('ignore')\n\n\n\n\n\n# Record audio and return it as a string\n\ndef recordAudio():\n\n    # Create a recognizer object named r\n\n    r = sr.Recognizer()\n\n    # Open the microphone and start recording \n\n    #NOTE: # The with statement itself ensures proper acquisition and release of resources\n\n    with sr.Microphone() as source:  # Creates a new Microphone instance, which represents a physical microphone on the computer\n\n        print('Say something!')\n\n        audio = r.listen(source)# Records a single phrase \n\n\n\n    # Speech recognition using Google's Speech Recognition\n\n    data = ''\n\n    try: #Try to get google to recognize the audio NOTE: The try block lets you test a block of code for errors\n\n        data = r.recognize_google(audio)\n\n        print('You said: ' + data)\n\n    except sr.UnknownValueError: # Check for unknown errors, NOTE: The except block lets you handle the error.\n\n        print('Google Speech Recognition could not understand the audio,  unknown error')\n\n    except sr.RequestError as e:  # Check for request error\n\n        print('Request results from Google Speech Recognition service error ' + e)\n\n\n\n    return data\n\n\n\n\n\n# Function to get the virtual assistant response\n\ndef assistantResponse(text):\n\n    print(text)\n\n\n\n    # Convert the text to speech\n\n    myobj = gTTS(text=text, lang='en', slow=False)\n\n\n\n    # Save the converted audio to a file\n\n    myobj.save('assistant_response.mp3')\n\n\n\n    # Play the converted file\n\n    os.system('start assistant_response.mp3')\n\n\n\n\n\n# A function to check for wake word(s)\n\ndef wakeWord(text):\n\n    WAKE_WORDS = ['hey computer', 'okay computer'] # A list of wake words\n\n\n\n    text = text.lower()  # Convert the text to all lower case words\n\n    # Check to see if the users command/text contains a wake word\n\n    for phrase in WAKE_WORDS:\n\n        if phrase in text:\n\n            return True\n\n\n\n    # If the wake word wasn't found in the loop then return False\n\n    return False\n\n\n\n# A function to get the current date\n\ndef getDate():\n\n    now = datetime.datetime.now()\n\n    my_date = datetime.datetime.today()\n\n    weekday = calendar.day_name[my_date.weekday()]  # e.g. Monday\n\n    monthNum = now.month\n\n    dayNum = now.day\n\n\n\n    month_names = ['January', 'February', 'March', 'April', 'May', 'June', 'July', 'August', 'September',\n\n                   'October', 'November', 'December']\n\n    ordinalNumbers = ['1st', '2nd', '3rd', '4th', '5th', '6th', '7th', '8th', '9th', '10th', '11th', '12th',\n\n                      '13th', '14th', '15th', '16th', '17th', '18th', '19th', '20th', '21st', '22nd', '23rd',\n\n                      '24th', '25th', '26th', '27th', '28th', '29th', '30th', '31st']\n\n    return 'Today is ' + weekday + ' ' + month_names[monthNum - 1] + ' the ' + ordinalNumbers[dayNum - 1] + '.'\n\n\n\n\n\n# Function to return a random greeting response\n\ndef greeting(text):\n\n    # Greeting Inputs\n\n    GREETING_INPUTS = ['hi', 'hey', 'hola', 'greetings', 'wassup', 'hello']\n\n\n\n    # Greeting Response back to the user\n\n    GREETING_RESPONSES = ['howdy', 'whats good', 'hello', 'hey there']\n\n\n\n    # if the users input is a greeting, then return a randomly chosen greeting response\n\n    for word in text.split():\n\n        if word.lower() in GREETING_INPUTS:\n\n            return random.choice(GREETING_RESPONSES) + '.'\n\n\n\n    # If no greeting was detected then return an empty string\n\n    return ''\n\n\n\n# Function to get a persons' first and last name\n\ndef getPerson(text):\n\n    wordList = text.split()  # Split the text into a list of words\n\n\n\n    for i in range(0, len(wordList)):\n\n        if i + 3 <= len(wordList) - 1 and wordList[i].lower() == 'who' and wordList[i + 1].lower() == 'is':\n\n            return wordList[i + 2] + ' ' + wordList[i + 3]\n\n\n\n\n\nwhile True:\n\n    # Record the audio\n\n    text = recordAudio()\n\n    response = '' #Empty response string to append the text of the virtual assistants response\n\n\n\n    # Checking for the wake word/phrase\n\n    if (wakeWord(text) == True):\n\n\n\n        # Check for greetings by the user\n\n        response = response + greeting(text) \n\n\n\n        #Check to see if the user said anything having to do with the date\n\n        if ('date' in text):\n\n            get_date = getDate()\n\n            response = response + ' ' + get_date\n\n\n\n        #Check to see if the user said anything having to do with the time\n\n        if('time' in text):\n\n            now = datetime.datetime.now()\n\n            meridiem = ''\n\n            if now.hour >= 12:\n\n                meridiem = 'p.m' #Post Meridiem (PM), after midday\n\n                hour = now.hour - 12\n\n            else:\n\n                meridiem = 'a.m'#Ante Meridiem (AM), before midday\n\n                hour = now.hour\n\n                \n\n            # Convert minute into a proper string  \n\n            if now.minute < 10:\n\n                minute = '0'+str(now.minute)\n\n            else:\n\n                minute = str(now.minute)\n\n\n\n            response = response + ' '+ 'It is '+ str(hour)+ ':'+minute+' '+meridiem+' .'\n\n        \n\n        #Check to see if the user said 'who is'\n\n        if ('who is' in text):\n\n            person = getPerson(text)\n\n            wiki = wikipedia.summary(person, sentences=2)\n\n            response = response + ' ' + wiki\n\n\n\n       # Have the assistant respond  back using audio and the text from response\n\n        assistantResponse(response)",
      "execution_count": 7,
      "outputs": [
        {
          "output_type": "error",
          "ename": "AttributeError",
          "evalue": "Could not find PyAudio; check installation",
          "traceback": [
            "\u001b[0;31m---------------------------------------------------------------------------\u001b[0m",
            "\u001b[0;31mModuleNotFoundError\u001b[0m                       Traceback (most recent call last)",
            "\u001b[0;32m~/anaconda3_501/lib/python3.6/site-packages/speech_recognition/__init__.py\u001b[0m in \u001b[0;36mget_pyaudio\u001b[0;34m()\u001b[0m\n\u001b[1;32m    107\u001b[0m         \u001b[0;32mtry\u001b[0m\u001b[0;34m:\u001b[0m\u001b[0;34m\u001b[0m\u001b[0m\n\u001b[0;32m--> 108\u001b[0;31m             \u001b[0;32mimport\u001b[0m \u001b[0mpyaudio\u001b[0m\u001b[0;34m\u001b[0m\u001b[0m\n\u001b[0m\u001b[1;32m    109\u001b[0m         \u001b[0;32mexcept\u001b[0m \u001b[0mImportError\u001b[0m\u001b[0;34m:\u001b[0m\u001b[0;34m\u001b[0m\u001b[0m\n",
            "\u001b[0;31mModuleNotFoundError\u001b[0m: No module named 'pyaudio'",
            "\nDuring handling of the above exception, another exception occurred:\n",
            "\u001b[0;31mAttributeError\u001b[0m                            Traceback (most recent call last)",
            "\u001b[0;32m<ipython-input-7-191a01d2f4bc>\u001b[0m in \u001b[0;36m<module>\u001b[0;34m\u001b[0m\n\u001b[1;32m    249\u001b[0m     \u001b[0;31m# Record the audio\u001b[0m\u001b[0;34m\u001b[0m\u001b[0;34m\u001b[0m\u001b[0m\n\u001b[1;32m    250\u001b[0m \u001b[0;34m\u001b[0m\u001b[0m\n\u001b[0;32m--> 251\u001b[0;31m     \u001b[0mtext\u001b[0m \u001b[0;34m=\u001b[0m \u001b[0mrecordAudio\u001b[0m\u001b[0;34m(\u001b[0m\u001b[0;34m)\u001b[0m\u001b[0;34m\u001b[0m\u001b[0m\n\u001b[0m\u001b[1;32m    252\u001b[0m \u001b[0;34m\u001b[0m\u001b[0m\n\u001b[1;32m    253\u001b[0m     \u001b[0mresponse\u001b[0m \u001b[0;34m=\u001b[0m \u001b[0;34m''\u001b[0m \u001b[0;31m#Empty response string to append the text of the virtual assistants response\u001b[0m\u001b[0;34m\u001b[0m\u001b[0m\n",
            "\u001b[0;32m<ipython-input-7-191a01d2f4bc>\u001b[0m in \u001b[0;36mrecordAudio\u001b[0;34m()\u001b[0m\n\u001b[1;32m     75\u001b[0m     \u001b[0;31m#NOTE: # The with statement itself ensures proper acquisition and release of resources\u001b[0m\u001b[0;34m\u001b[0m\u001b[0;34m\u001b[0m\u001b[0m\n\u001b[1;32m     76\u001b[0m \u001b[0;34m\u001b[0m\u001b[0m\n\u001b[0;32m---> 77\u001b[0;31m     \u001b[0;32mwith\u001b[0m \u001b[0msr\u001b[0m\u001b[0;34m.\u001b[0m\u001b[0mMicrophone\u001b[0m\u001b[0;34m(\u001b[0m\u001b[0;34m)\u001b[0m \u001b[0;32mas\u001b[0m \u001b[0msource\u001b[0m\u001b[0;34m:\u001b[0m  \u001b[0;31m# Creates a new Microphone instance, which represents a physical microphone on the computer\u001b[0m\u001b[0;34m\u001b[0m\u001b[0m\n\u001b[0m\u001b[1;32m     78\u001b[0m \u001b[0;34m\u001b[0m\u001b[0m\n\u001b[1;32m     79\u001b[0m         \u001b[0mprint\u001b[0m\u001b[0;34m(\u001b[0m\u001b[0;34m'Say something!'\u001b[0m\u001b[0;34m)\u001b[0m\u001b[0;34m\u001b[0m\u001b[0m\n",
            "\u001b[0;32m~/anaconda3_501/lib/python3.6/site-packages/speech_recognition/__init__.py\u001b[0m in \u001b[0;36m__init__\u001b[0;34m(self, device_index, sample_rate, chunk_size)\u001b[0m\n\u001b[1;32m     77\u001b[0m \u001b[0;34m\u001b[0m\u001b[0m\n\u001b[1;32m     78\u001b[0m         \u001b[0;31m# set up PyAudio\u001b[0m\u001b[0;34m\u001b[0m\u001b[0;34m\u001b[0m\u001b[0m\n\u001b[0;32m---> 79\u001b[0;31m         \u001b[0mself\u001b[0m\u001b[0;34m.\u001b[0m\u001b[0mpyaudio_module\u001b[0m \u001b[0;34m=\u001b[0m \u001b[0mself\u001b[0m\u001b[0;34m.\u001b[0m\u001b[0mget_pyaudio\u001b[0m\u001b[0;34m(\u001b[0m\u001b[0;34m)\u001b[0m\u001b[0;34m\u001b[0m\u001b[0m\n\u001b[0m\u001b[1;32m     80\u001b[0m         \u001b[0maudio\u001b[0m \u001b[0;34m=\u001b[0m \u001b[0mself\u001b[0m\u001b[0;34m.\u001b[0m\u001b[0mpyaudio_module\u001b[0m\u001b[0;34m.\u001b[0m\u001b[0mPyAudio\u001b[0m\u001b[0;34m(\u001b[0m\u001b[0;34m)\u001b[0m\u001b[0;34m\u001b[0m\u001b[0m\n\u001b[1;32m     81\u001b[0m         \u001b[0;32mtry\u001b[0m\u001b[0;34m:\u001b[0m\u001b[0;34m\u001b[0m\u001b[0m\n",
            "\u001b[0;32m~/anaconda3_501/lib/python3.6/site-packages/speech_recognition/__init__.py\u001b[0m in \u001b[0;36mget_pyaudio\u001b[0;34m()\u001b[0m\n\u001b[1;32m    108\u001b[0m             \u001b[0;32mimport\u001b[0m \u001b[0mpyaudio\u001b[0m\u001b[0;34m\u001b[0m\u001b[0m\n\u001b[1;32m    109\u001b[0m         \u001b[0;32mexcept\u001b[0m \u001b[0mImportError\u001b[0m\u001b[0;34m:\u001b[0m\u001b[0;34m\u001b[0m\u001b[0m\n\u001b[0;32m--> 110\u001b[0;31m             \u001b[0;32mraise\u001b[0m \u001b[0mAttributeError\u001b[0m\u001b[0;34m(\u001b[0m\u001b[0;34m\"Could not find PyAudio; check installation\"\u001b[0m\u001b[0;34m)\u001b[0m\u001b[0;34m\u001b[0m\u001b[0m\n\u001b[0m\u001b[1;32m    111\u001b[0m         \u001b[0;32mfrom\u001b[0m \u001b[0mdistutils\u001b[0m\u001b[0;34m.\u001b[0m\u001b[0mversion\u001b[0m \u001b[0;32mimport\u001b[0m \u001b[0mLooseVersion\u001b[0m\u001b[0;34m\u001b[0m\u001b[0m\n\u001b[1;32m    112\u001b[0m         \u001b[0;32mif\u001b[0m \u001b[0mLooseVersion\u001b[0m\u001b[0;34m(\u001b[0m\u001b[0mpyaudio\u001b[0m\u001b[0;34m.\u001b[0m\u001b[0m__version__\u001b[0m\u001b[0;34m)\u001b[0m \u001b[0;34m<\u001b[0m \u001b[0mLooseVersion\u001b[0m\u001b[0;34m(\u001b[0m\u001b[0;34m\"0.2.11\"\u001b[0m\u001b[0;34m)\u001b[0m\u001b[0;34m:\u001b[0m\u001b[0;34m\u001b[0m\u001b[0m\n",
            "\u001b[0;31mAttributeError\u001b[0m: Could not find PyAudio; check installation"
          ]
        }
      ]
    },
    {
      "metadata": {
        "trusted": true
      },
      "cell_type": "code",
      "source": "!pip install speechrecognition\n",
      "execution_count": 2,
      "outputs": [
        {
          "output_type": "stream",
          "text": "Collecting speechrecognition\n\u001b[?25l  Downloading https://files.pythonhosted.org/packages/26/e1/7f5678cd94ec1234269d23756dbdaa4c8cfaed973412f88ae8adf7893a50/SpeechRecognition-3.8.1-py2.py3-none-any.whl (32.8MB)\n\u001b[K     |████████████████████████████████| 32.8MB 4.2kB/s eta 0:00:01    |████▌                           | 4.6MB 738kB/s eta 0:00:398.9MB 4.0MB/s eta 0:00:01��█████   | 29.7MB 2.6MB/s eta 0:00:02��███████████████▍  | 30.2MB 2.7MB/s eta 0:00:01��██████████████████████████▉ | 31.6MB 2.7MB/s eta 0:00:01ta 0:00:01\n\u001b[?25hInstalling collected packages: speechrecognition\nSuccessfully installed speechrecognition-3.8.1\n\u001b[33mWARNING: You are using pip version 19.3.1; however, version 20.0.2 is available.\nYou should consider upgrading via the 'pip install --upgrade pip' command.\u001b[0m\n",
          "name": "stdout"
        }
      ]
    },
    {
      "metadata": {
        "trusted": true
      },
      "cell_type": "code",
      "source": "!pip install gtts",
      "execution_count": 4,
      "outputs": [
        {
          "output_type": "stream",
          "text": "Collecting gtts\n  Downloading https://files.pythonhosted.org/packages/a1/0c/4ca77eca3b739a4a08360930643f58d714e302fee0d2f8c654e67d9af8e7/gTTS-2.1.1-py3-none-any.whl\nCollecting gtts-token>=1.1.3\n  Downloading https://files.pythonhosted.org/packages/e7/25/ca6e9cd3275bfc3097fe6b06cc31db6d3dfaf32e032e0f73fead9c9a03ce/gTTS-token-1.1.3.tar.gz\nRequirement already satisfied: beautifulsoup4 in /home/nbuser/anaconda3_501/lib/python3.6/site-packages (from gtts) (4.6.3)\nRequirement already satisfied: requests in /home/nbuser/anaconda3_501/lib/python3.6/site-packages (from gtts) (2.22.0)\nRequirement already satisfied: six in /home/nbuser/anaconda3_501/lib/python3.6/site-packages (from gtts) (1.11.0)\nRequirement already satisfied: click in /home/nbuser/anaconda3_501/lib/python3.6/site-packages (from gtts) (7.0)\nRequirement already satisfied: chardet<3.1.0,>=3.0.2 in /home/nbuser/anaconda3_501/lib/python3.6/site-packages (from requests->gtts) (3.0.4)\nRequirement already satisfied: urllib3!=1.25.0,!=1.25.1,<1.26,>=1.21.1 in /home/nbuser/anaconda3_501/lib/python3.6/site-packages (from requests->gtts) (1.23)\nRequirement already satisfied: certifi>=2017.4.17 in /home/nbuser/anaconda3_501/lib/python3.6/site-packages (from requests->gtts) (2018.10.15)\nRequirement already satisfied: idna<2.9,>=2.5 in /home/nbuser/anaconda3_501/lib/python3.6/site-packages (from requests->gtts) (2.7)\nBuilding wheels for collected packages: gtts-token\n  Building wheel for gtts-token (setup.py) ... \u001b[?25ldone\n\u001b[?25h  Created wheel for gtts-token: filename=gTTS_token-1.1.3-cp36-none-any.whl size=4478 sha256=ec77385d49d76a1ee4d0510820265ef6791353d507df3cc1895f4c61044706d0\n  Stored in directory: /home/nbuser/.cache/pip/wheels/dd/11/61/33f7e51bf545e910552b2255eead2a7cd8ef54064b46dceb34\nSuccessfully built gtts-token\nInstalling collected packages: gtts-token, gtts\nSuccessfully installed gtts-2.1.1 gtts-token-1.1.3\n\u001b[33mWARNING: You are using pip version 19.3.1; however, version 20.0.2 is available.\nYou should consider upgrading via the 'pip install --upgrade pip' command.\u001b[0m\n",
          "name": "stdout"
        }
      ]
    },
    {
      "metadata": {
        "trusted": true
      },
      "cell_type": "code",
      "source": "!pip install wikipedia",
      "execution_count": 6,
      "outputs": [
        {
          "output_type": "stream",
          "text": "Collecting wikipedia\n  Downloading https://files.pythonhosted.org/packages/67/35/25e68fbc99e672127cc6fbb14b8ec1ba3dfef035bf1e4c90f78f24a80b7d/wikipedia-1.4.0.tar.gz\nRequirement already satisfied: beautifulsoup4 in /home/nbuser/anaconda3_501/lib/python3.6/site-packages (from wikipedia) (4.6.3)\nRequirement already satisfied: requests<3.0.0,>=2.0.0 in /home/nbuser/anaconda3_501/lib/python3.6/site-packages (from wikipedia) (2.22.0)\nRequirement already satisfied: chardet<3.1.0,>=3.0.2 in /home/nbuser/anaconda3_501/lib/python3.6/site-packages (from requests<3.0.0,>=2.0.0->wikipedia) (3.0.4)\nRequirement already satisfied: idna<2.9,>=2.5 in /home/nbuser/anaconda3_501/lib/python3.6/site-packages (from requests<3.0.0,>=2.0.0->wikipedia) (2.7)\nRequirement already satisfied: urllib3!=1.25.0,!=1.25.1,<1.26,>=1.21.1 in /home/nbuser/anaconda3_501/lib/python3.6/site-packages (from requests<3.0.0,>=2.0.0->wikipedia) (1.23)\nRequirement already satisfied: certifi>=2017.4.17 in /home/nbuser/anaconda3_501/lib/python3.6/site-packages (from requests<3.0.0,>=2.0.0->wikipedia) (2018.10.15)\nBuilding wheels for collected packages: wikipedia\n  Building wheel for wikipedia (setup.py) ... \u001b[?25ldone\n\u001b[?25h  Created wheel for wikipedia: filename=wikipedia-1.4.0-cp36-none-any.whl size=13512 sha256=9b946e740f9978f276bdcb00d84c54f67fd02cbe6bcca53bb036d6239b2edf29\n  Stored in directory: /home/nbuser/.cache/pip/wheels/87/2a/18/4e471fd96d12114d16fe4a446d00c3b38fb9efcb744bd31f4a\nSuccessfully built wikipedia\nInstalling collected packages: wikipedia\nSuccessfully installed wikipedia-1.4.0\n\u001b[33mWARNING: You are using pip version 19.3.1; however, version 20.0.2 is available.\nYou should consider upgrading via the 'pip install --upgrade pip' command.\u001b[0m\n",
          "name": "stdout"
        }
      ]
    },
    {
      "metadata": {
        "trusted": true
      },
      "cell_type": "code",
      "source": "!",
      "execution_count": null,
      "outputs": []
    }
  ],
  "metadata": {
    "kernelspec": {
      "name": "python36",
      "display_name": "Python 3.6",
      "language": "python"
    },
    "language_info": {
      "mimetype": "text/x-python",
      "nbconvert_exporter": "python",
      "name": "python",
      "pygments_lexer": "ipython3",
      "version": "3.6.6",
      "file_extension": ".py",
      "codemirror_mode": {
        "version": 3,
        "name": "ipython"
      }
    }
  },
  "nbformat": 4,
  "nbformat_minor": 2
}